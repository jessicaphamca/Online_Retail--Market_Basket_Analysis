{
 "cells": [
  {
   "cell_type": "markdown",
   "metadata": {},
   "source": [
    "# Market Basket Analysis - Online Retail"
   ]
  },
  {
   "cell_type": "code",
   "execution_count": 1,
   "metadata": {},
   "outputs": [],
   "source": [
    "import pandas as pd\n",
    "import numpy as np\n",
    "import seaborn as sns\n",
    "import matplotlib.pyplot as plt"
   ]
  },
  {
   "cell_type": "code",
   "execution_count": 10,
   "metadata": {},
   "outputs": [
    {
     "data": {
      "text/html": [
       "<div>\n",
       "<style scoped>\n",
       "    .dataframe tbody tr th:only-of-type {\n",
       "        vertical-align: middle;\n",
       "    }\n",
       "\n",
       "    .dataframe tbody tr th {\n",
       "        vertical-align: top;\n",
       "    }\n",
       "\n",
       "    .dataframe thead th {\n",
       "        text-align: right;\n",
       "    }\n",
       "</style>\n",
       "<table border=\"1\" class=\"dataframe\">\n",
       "  <thead>\n",
       "    <tr style=\"text-align: right;\">\n",
       "      <th></th>\n",
       "      <th>Invoice</th>\n",
       "      <th>StockCode</th>\n",
       "      <th>Description</th>\n",
       "      <th>Quantity</th>\n",
       "      <th>InvoiceDate</th>\n",
       "      <th>Price</th>\n",
       "      <th>Customer ID</th>\n",
       "      <th>Country</th>\n",
       "    </tr>\n",
       "  </thead>\n",
       "  <tbody>\n",
       "    <tr>\n",
       "      <th>0</th>\n",
       "      <td>536365</td>\n",
       "      <td>85123A</td>\n",
       "      <td>WHITE HANGING HEART T-LIGHT HOLDER</td>\n",
       "      <td>6</td>\n",
       "      <td>2010-12-01 8:26</td>\n",
       "      <td>2.55</td>\n",
       "      <td>17850.0</td>\n",
       "      <td>United Kingdom</td>\n",
       "    </tr>\n",
       "    <tr>\n",
       "      <th>1</th>\n",
       "      <td>536365</td>\n",
       "      <td>71053</td>\n",
       "      <td>WHITE METAL LANTERN</td>\n",
       "      <td>6</td>\n",
       "      <td>2010-12-01 8:26</td>\n",
       "      <td>3.39</td>\n",
       "      <td>17850.0</td>\n",
       "      <td>United Kingdom</td>\n",
       "    </tr>\n",
       "    <tr>\n",
       "      <th>2</th>\n",
       "      <td>536365</td>\n",
       "      <td>84406B</td>\n",
       "      <td>CREAM CUPID HEARTS COAT HANGER</td>\n",
       "      <td>8</td>\n",
       "      <td>2010-12-01 8:26</td>\n",
       "      <td>2.75</td>\n",
       "      <td>17850.0</td>\n",
       "      <td>United Kingdom</td>\n",
       "    </tr>\n",
       "    <tr>\n",
       "      <th>3</th>\n",
       "      <td>536365</td>\n",
       "      <td>84029G</td>\n",
       "      <td>KNITTED UNION FLAG HOT WATER BOTTLE</td>\n",
       "      <td>6</td>\n",
       "      <td>2010-12-01 8:26</td>\n",
       "      <td>3.39</td>\n",
       "      <td>17850.0</td>\n",
       "      <td>United Kingdom</td>\n",
       "    </tr>\n",
       "    <tr>\n",
       "      <th>4</th>\n",
       "      <td>536365</td>\n",
       "      <td>84029E</td>\n",
       "      <td>RED WOOLLY HOTTIE WHITE HEART.</td>\n",
       "      <td>6</td>\n",
       "      <td>2010-12-01 8:26</td>\n",
       "      <td>3.39</td>\n",
       "      <td>17850.0</td>\n",
       "      <td>United Kingdom</td>\n",
       "    </tr>\n",
       "  </tbody>\n",
       "</table>\n",
       "</div>"
      ],
      "text/plain": [
       "  Invoice StockCode                          Description  Quantity  \\\n",
       "0  536365    85123A   WHITE HANGING HEART T-LIGHT HOLDER         6   \n",
       "1  536365     71053                  WHITE METAL LANTERN         6   \n",
       "2  536365    84406B       CREAM CUPID HEARTS COAT HANGER         8   \n",
       "3  536365    84029G  KNITTED UNION FLAG HOT WATER BOTTLE         6   \n",
       "4  536365    84029E       RED WOOLLY HOTTIE WHITE HEART.         6   \n",
       "\n",
       "       InvoiceDate  Price  Customer ID         Country  \n",
       "0  2010-12-01 8:26   2.55      17850.0  United Kingdom  \n",
       "1  2010-12-01 8:26   3.39      17850.0  United Kingdom  \n",
       "2  2010-12-01 8:26   2.75      17850.0  United Kingdom  \n",
       "3  2010-12-01 8:26   3.39      17850.0  United Kingdom  \n",
       "4  2010-12-01 8:26   3.39      17850.0  United Kingdom  "
      ]
     },
     "execution_count": 10,
     "metadata": {},
     "output_type": "execute_result"
    }
   ],
   "source": [
    "df = pd.read_csv('online_retail_2010.csv')\n",
    "df.head()"
   ]
  },
  {
   "cell_type": "code",
   "execution_count": 20,
   "metadata": {},
   "outputs": [
    {
     "data": {
      "text/html": [
       "<div>\n",
       "<style scoped>\n",
       "    .dataframe tbody tr th:only-of-type {\n",
       "        vertical-align: middle;\n",
       "    }\n",
       "\n",
       "    .dataframe tbody tr th {\n",
       "        vertical-align: top;\n",
       "    }\n",
       "\n",
       "    .dataframe thead th {\n",
       "        text-align: right;\n",
       "    }\n",
       "</style>\n",
       "<table border=\"1\" class=\"dataframe\">\n",
       "  <thead>\n",
       "    <tr style=\"text-align: right;\">\n",
       "      <th></th>\n",
       "      <th>Invoice</th>\n",
       "      <th>StockCode</th>\n",
       "      <th>Description</th>\n",
       "      <th>Quantity</th>\n",
       "      <th>InvoiceDate</th>\n",
       "      <th>Price</th>\n",
       "      <th>Customer ID</th>\n",
       "      <th>Country</th>\n",
       "    </tr>\n",
       "  </thead>\n",
       "  <tbody>\n",
       "    <tr>\n",
       "      <th>541905</th>\n",
       "      <td>581587</td>\n",
       "      <td>22899</td>\n",
       "      <td>CHILDREN'S APRON DOLLY GIRL</td>\n",
       "      <td>6</td>\n",
       "      <td>2011-12-09 12:50</td>\n",
       "      <td>2.10</td>\n",
       "      <td>12680.0</td>\n",
       "      <td>France</td>\n",
       "    </tr>\n",
       "    <tr>\n",
       "      <th>541906</th>\n",
       "      <td>581587</td>\n",
       "      <td>23254</td>\n",
       "      <td>CHILDRENS CUTLERY DOLLY GIRL</td>\n",
       "      <td>4</td>\n",
       "      <td>2011-12-09 12:50</td>\n",
       "      <td>4.15</td>\n",
       "      <td>12680.0</td>\n",
       "      <td>France</td>\n",
       "    </tr>\n",
       "    <tr>\n",
       "      <th>541907</th>\n",
       "      <td>581587</td>\n",
       "      <td>23255</td>\n",
       "      <td>CHILDRENS CUTLERY CIRCUS PARADE</td>\n",
       "      <td>4</td>\n",
       "      <td>2011-12-09 12:50</td>\n",
       "      <td>4.15</td>\n",
       "      <td>12680.0</td>\n",
       "      <td>France</td>\n",
       "    </tr>\n",
       "    <tr>\n",
       "      <th>541908</th>\n",
       "      <td>581587</td>\n",
       "      <td>22138</td>\n",
       "      <td>BAKING SET 9 PIECE RETROSPOT</td>\n",
       "      <td>3</td>\n",
       "      <td>2011-12-09 12:50</td>\n",
       "      <td>4.95</td>\n",
       "      <td>12680.0</td>\n",
       "      <td>France</td>\n",
       "    </tr>\n",
       "    <tr>\n",
       "      <th>541909</th>\n",
       "      <td>581587</td>\n",
       "      <td>POST</td>\n",
       "      <td>POSTAGE</td>\n",
       "      <td>1</td>\n",
       "      <td>2011-12-09 12:50</td>\n",
       "      <td>18.00</td>\n",
       "      <td>12680.0</td>\n",
       "      <td>France</td>\n",
       "    </tr>\n",
       "  </tbody>\n",
       "</table>\n",
       "</div>"
      ],
      "text/plain": [
       "       Invoice StockCode                      Description  Quantity  \\\n",
       "541905  581587     22899     CHILDREN'S APRON DOLLY GIRL          6   \n",
       "541906  581587     23254    CHILDRENS CUTLERY DOLLY GIRL          4   \n",
       "541907  581587     23255  CHILDRENS CUTLERY CIRCUS PARADE         4   \n",
       "541908  581587     22138    BAKING SET 9 PIECE RETROSPOT          3   \n",
       "541909  581587      POST                          POSTAGE         1   \n",
       "\n",
       "             InvoiceDate  Price  Customer ID Country  \n",
       "541905  2011-12-09 12:50   2.10      12680.0  France  \n",
       "541906  2011-12-09 12:50   4.15      12680.0  France  \n",
       "541907  2011-12-09 12:50   4.15      12680.0  France  \n",
       "541908  2011-12-09 12:50   4.95      12680.0  France  \n",
       "541909  2011-12-09 12:50  18.00      12680.0  France  "
      ]
     },
     "execution_count": 20,
     "metadata": {},
     "output_type": "execute_result"
    }
   ],
   "source": [
    "df.tail()"
   ]
  },
  {
   "cell_type": "code",
   "execution_count": 11,
   "metadata": {},
   "outputs": [
    {
     "data": {
      "text/plain": [
       "(541910, 8)"
      ]
     },
     "execution_count": 11,
     "metadata": {},
     "output_type": "execute_result"
    }
   ],
   "source": [
    "df.shape"
   ]
  },
  {
   "cell_type": "code",
   "execution_count": 6,
   "metadata": {},
   "outputs": [
    {
     "data": {
      "text/plain": [
       "Customer ID    135080\n",
       "Description      1454\n",
       "Country             0\n",
       "Price               0\n",
       "InvoiceDate         0\n",
       "Quantity            0\n",
       "StockCode           0\n",
       "Invoice             0\n",
       "dtype: int64"
      ]
     },
     "execution_count": 6,
     "metadata": {},
     "output_type": "execute_result"
    }
   ],
   "source": [
    "#check missing values\n",
    "df.isnull().sum().sort_values(ascending = False)"
   ]
  },
  {
   "cell_type": "code",
   "execution_count": 7,
   "metadata": {},
   "outputs": [
    {
     "data": {
      "text/html": [
       "<div>\n",
       "<style scoped>\n",
       "    .dataframe tbody tr th:only-of-type {\n",
       "        vertical-align: middle;\n",
       "    }\n",
       "\n",
       "    .dataframe tbody tr th {\n",
       "        vertical-align: top;\n",
       "    }\n",
       "\n",
       "    .dataframe thead th {\n",
       "        text-align: right;\n",
       "    }\n",
       "</style>\n",
       "<table border=\"1\" class=\"dataframe\">\n",
       "  <thead>\n",
       "    <tr style=\"text-align: right;\">\n",
       "      <th></th>\n",
       "      <th>Quantity</th>\n",
       "      <th>Price</th>\n",
       "      <th>Customer ID</th>\n",
       "    </tr>\n",
       "  </thead>\n",
       "  <tbody>\n",
       "    <tr>\n",
       "      <th>count</th>\n",
       "      <td>541910.000000</td>\n",
       "      <td>541910.000000</td>\n",
       "      <td>406830.000000</td>\n",
       "    </tr>\n",
       "    <tr>\n",
       "      <th>mean</th>\n",
       "      <td>9.552234</td>\n",
       "      <td>4.611138</td>\n",
       "      <td>15287.684160</td>\n",
       "    </tr>\n",
       "    <tr>\n",
       "      <th>std</th>\n",
       "      <td>218.080957</td>\n",
       "      <td>96.759765</td>\n",
       "      <td>1713.603074</td>\n",
       "    </tr>\n",
       "    <tr>\n",
       "      <th>min</th>\n",
       "      <td>-80995.000000</td>\n",
       "      <td>-11062.060000</td>\n",
       "      <td>12346.000000</td>\n",
       "    </tr>\n",
       "    <tr>\n",
       "      <th>25%</th>\n",
       "      <td>1.000000</td>\n",
       "      <td>1.250000</td>\n",
       "      <td>13953.000000</td>\n",
       "    </tr>\n",
       "    <tr>\n",
       "      <th>50%</th>\n",
       "      <td>3.000000</td>\n",
       "      <td>2.080000</td>\n",
       "      <td>15152.000000</td>\n",
       "    </tr>\n",
       "    <tr>\n",
       "      <th>75%</th>\n",
       "      <td>10.000000</td>\n",
       "      <td>4.130000</td>\n",
       "      <td>16791.000000</td>\n",
       "    </tr>\n",
       "    <tr>\n",
       "      <th>max</th>\n",
       "      <td>80995.000000</td>\n",
       "      <td>38970.000000</td>\n",
       "      <td>18287.000000</td>\n",
       "    </tr>\n",
       "  </tbody>\n",
       "</table>\n",
       "</div>"
      ],
      "text/plain": [
       "            Quantity          Price    Customer ID\n",
       "count  541910.000000  541910.000000  406830.000000\n",
       "mean        9.552234       4.611138   15287.684160\n",
       "std       218.080957      96.759765    1713.603074\n",
       "min    -80995.000000  -11062.060000   12346.000000\n",
       "25%         1.000000       1.250000   13953.000000\n",
       "50%         3.000000       2.080000   15152.000000\n",
       "75%        10.000000       4.130000   16791.000000\n",
       "max     80995.000000   38970.000000   18287.000000"
      ]
     },
     "execution_count": 7,
     "metadata": {},
     "output_type": "execute_result"
    }
   ],
   "source": [
    "df.describe()"
   ]
  },
  {
   "cell_type": "code",
   "execution_count": 8,
   "metadata": {},
   "outputs": [
    {
     "data": {
      "text/plain": [
       "Invoice         object\n",
       "StockCode       object\n",
       "Description     object\n",
       "Quantity         int64\n",
       "InvoiceDate     object\n",
       "Price          float64\n",
       "Customer ID    float64\n",
       "Country         object\n",
       "dtype: object"
      ]
     },
     "execution_count": 8,
     "metadata": {},
     "output_type": "execute_result"
    }
   ],
   "source": [
    "df.dtypes"
   ]
  },
  {
   "cell_type": "code",
   "execution_count": 18,
   "metadata": {},
   "outputs": [
    {
     "name": "stdout",
     "output_type": "stream",
     "text": [
      "Count of unique invoice numbers: 25900\n"
     ]
    }
   ],
   "source": [
    "print(\"Count of unique invoice numbers: {cnt}\" \\\n",
    "      .format(cnt=df.Invoice.nunique()))"
   ]
  },
  {
   "cell_type": "code",
   "execution_count": 19,
   "metadata": {},
   "outputs": [
    {
     "name": "stdout",
     "output_type": "stream",
     "text": [
      "Count of unique customer ids: 4372\n"
     ]
    }
   ],
   "source": [
    "print(\"Count of unique customer ids: {cnt}\" \\\n",
    "      .format(cnt=df['Customer ID'].nunique()))"
   ]
  },
  {
   "cell_type": "markdown",
   "metadata": {},
   "source": [
    "Market basket analysis looks to identify associations between the items purchased by all customers over time"
   ]
  },
  {
   "cell_type": "markdown",
   "metadata": {},
   "source": [
    "### Data Cleaning"
   ]
  },
  {
   "cell_type": "code",
   "execution_count": null,
   "metadata": {},
   "outputs": [],
   "source": [
    "the main focus of data cleaning involves removing transactions with a non-positive number of items"
   ]
  },
  {
   "cell_type": "code",
   "execution_count": 24,
   "metadata": {},
   "outputs": [],
   "source": [
    "# create new column called IsC\n",
    "# looking for C in InvoiceNo column\n",
    "df['IsC'] = (df['Invoice'].astype(str).apply(lambda x: 1 if x.find('C') \\\n",
    "                                != -1 else 0))"
   ]
  },
  {
   "cell_type": "code",
   "execution_count": 25,
   "metadata": {},
   "outputs": [
    {
     "data": {
      "text/html": [
       "<div>\n",
       "<style scoped>\n",
       "    .dataframe tbody tr th:only-of-type {\n",
       "        vertical-align: middle;\n",
       "    }\n",
       "\n",
       "    .dataframe tbody tr th {\n",
       "        vertical-align: top;\n",
       "    }\n",
       "\n",
       "    .dataframe thead th {\n",
       "        text-align: right;\n",
       "    }\n",
       "</style>\n",
       "<table border=\"1\" class=\"dataframe\">\n",
       "  <thead>\n",
       "    <tr style=\"text-align: right;\">\n",
       "      <th></th>\n",
       "      <th>Invoice</th>\n",
       "      <th>StockCode</th>\n",
       "      <th>Description</th>\n",
       "      <th>Quantity</th>\n",
       "      <th>InvoiceDate</th>\n",
       "      <th>Price</th>\n",
       "      <th>Customer ID</th>\n",
       "      <th>Country</th>\n",
       "      <th>IsC</th>\n",
       "    </tr>\n",
       "  </thead>\n",
       "  <tbody>\n",
       "    <tr>\n",
       "      <th>0</th>\n",
       "      <td>536365</td>\n",
       "      <td>85123A</td>\n",
       "      <td>WHITE HANGING HEART T-LIGHT HOLDER</td>\n",
       "      <td>6</td>\n",
       "      <td>2010-12-01 8:26</td>\n",
       "      <td>2.55</td>\n",
       "      <td>17850.0</td>\n",
       "      <td>United Kingdom</td>\n",
       "      <td>0</td>\n",
       "    </tr>\n",
       "    <tr>\n",
       "      <th>1</th>\n",
       "      <td>536365</td>\n",
       "      <td>71053</td>\n",
       "      <td>WHITE METAL LANTERN</td>\n",
       "      <td>6</td>\n",
       "      <td>2010-12-01 8:26</td>\n",
       "      <td>3.39</td>\n",
       "      <td>17850.0</td>\n",
       "      <td>United Kingdom</td>\n",
       "      <td>0</td>\n",
       "    </tr>\n",
       "    <tr>\n",
       "      <th>2</th>\n",
       "      <td>536365</td>\n",
       "      <td>84406B</td>\n",
       "      <td>CREAM CUPID HEARTS COAT HANGER</td>\n",
       "      <td>8</td>\n",
       "      <td>2010-12-01 8:26</td>\n",
       "      <td>2.75</td>\n",
       "      <td>17850.0</td>\n",
       "      <td>United Kingdom</td>\n",
       "      <td>0</td>\n",
       "    </tr>\n",
       "    <tr>\n",
       "      <th>3</th>\n",
       "      <td>536365</td>\n",
       "      <td>84029G</td>\n",
       "      <td>KNITTED UNION FLAG HOT WATER BOTTLE</td>\n",
       "      <td>6</td>\n",
       "      <td>2010-12-01 8:26</td>\n",
       "      <td>3.39</td>\n",
       "      <td>17850.0</td>\n",
       "      <td>United Kingdom</td>\n",
       "      <td>0</td>\n",
       "    </tr>\n",
       "    <tr>\n",
       "      <th>4</th>\n",
       "      <td>536365</td>\n",
       "      <td>84029E</td>\n",
       "      <td>RED WOOLLY HOTTIE WHITE HEART.</td>\n",
       "      <td>6</td>\n",
       "      <td>2010-12-01 8:26</td>\n",
       "      <td>3.39</td>\n",
       "      <td>17850.0</td>\n",
       "      <td>United Kingdom</td>\n",
       "      <td>0</td>\n",
       "    </tr>\n",
       "  </tbody>\n",
       "</table>\n",
       "</div>"
      ],
      "text/plain": [
       "  Invoice StockCode                          Description  Quantity  \\\n",
       "0  536365    85123A   WHITE HANGING HEART T-LIGHT HOLDER         6   \n",
       "1  536365     71053                  WHITE METAL LANTERN         6   \n",
       "2  536365    84406B       CREAM CUPID HEARTS COAT HANGER         8   \n",
       "3  536365    84029G  KNITTED UNION FLAG HOT WATER BOTTLE         6   \n",
       "4  536365    84029E       RED WOOLLY HOTTIE WHITE HEART.         6   \n",
       "\n",
       "       InvoiceDate  Price  Customer ID         Country  IsC  \n",
       "0  2010-12-01 8:26   2.55      17850.0  United Kingdom    0  \n",
       "1  2010-12-01 8:26   3.39      17850.0  United Kingdom    0  \n",
       "2  2010-12-01 8:26   2.75      17850.0  United Kingdom    0  \n",
       "3  2010-12-01 8:26   3.39      17850.0  United Kingdom    0  \n",
       "4  2010-12-01 8:26   3.39      17850.0  United Kingdom    0  "
      ]
     },
     "execution_count": 25,
     "metadata": {},
     "output_type": "execute_result"
    }
   ],
   "source": [
    "df.head()"
   ]
  },
  {
   "cell_type": "code",
   "execution_count": 26,
   "metadata": {},
   "outputs": [
    {
     "data": {
      "text/plain": [
       "array([0, 1])"
      ]
     },
     "execution_count": 26,
     "metadata": {},
     "output_type": "execute_result"
    }
   ],
   "source": [
    "df['IsC'].unique()"
   ]
  },
  {
   "cell_type": "code",
   "execution_count": null,
   "metadata": {},
   "outputs": [],
   "source": [
    "# Filter out all transactions having either zero or a negative number of items and remove Invoice starting with C"
   ]
  },
  {
   "cell_type": "code",
   "execution_count": 27,
   "metadata": {},
   "outputs": [],
   "source": [
    "df_clean = (\n",
    "    df\n",
    "    .loc[df[\"Quantity\"] > 0]\n",
    "    .loc[df['IsC'] != 1]\n",
    "    .loc[:, [\"Invoice\", \"Description\"]]\n",
    "    .dropna()\n",
    ")"
   ]
  },
  {
   "cell_type": "code",
   "execution_count": 28,
   "metadata": {},
   "outputs": [
    {
     "data": {
      "text/html": [
       "<div>\n",
       "<style scoped>\n",
       "    .dataframe tbody tr th:only-of-type {\n",
       "        vertical-align: middle;\n",
       "    }\n",
       "\n",
       "    .dataframe tbody tr th {\n",
       "        vertical-align: top;\n",
       "    }\n",
       "\n",
       "    .dataframe thead th {\n",
       "        text-align: right;\n",
       "    }\n",
       "</style>\n",
       "<table border=\"1\" class=\"dataframe\">\n",
       "  <thead>\n",
       "    <tr style=\"text-align: right;\">\n",
       "      <th></th>\n",
       "      <th>Invoice</th>\n",
       "      <th>Description</th>\n",
       "    </tr>\n",
       "  </thead>\n",
       "  <tbody>\n",
       "    <tr>\n",
       "      <th>0</th>\n",
       "      <td>536365</td>\n",
       "      <td>WHITE HANGING HEART T-LIGHT HOLDER</td>\n",
       "    </tr>\n",
       "    <tr>\n",
       "      <th>1</th>\n",
       "      <td>536365</td>\n",
       "      <td>WHITE METAL LANTERN</td>\n",
       "    </tr>\n",
       "    <tr>\n",
       "      <th>2</th>\n",
       "      <td>536365</td>\n",
       "      <td>CREAM CUPID HEARTS COAT HANGER</td>\n",
       "    </tr>\n",
       "    <tr>\n",
       "      <th>3</th>\n",
       "      <td>536365</td>\n",
       "      <td>KNITTED UNION FLAG HOT WATER BOTTLE</td>\n",
       "    </tr>\n",
       "    <tr>\n",
       "      <th>4</th>\n",
       "      <td>536365</td>\n",
       "      <td>RED WOOLLY HOTTIE WHITE HEART.</td>\n",
       "    </tr>\n",
       "    <tr>\n",
       "      <th>5</th>\n",
       "      <td>536365</td>\n",
       "      <td>SET 7 BABUSHKA NESTING BOXES</td>\n",
       "    </tr>\n",
       "    <tr>\n",
       "      <th>6</th>\n",
       "      <td>536365</td>\n",
       "      <td>GLASS STAR FROSTED T-LIGHT HOLDER</td>\n",
       "    </tr>\n",
       "    <tr>\n",
       "      <th>7</th>\n",
       "      <td>536366</td>\n",
       "      <td>HAND WARMER UNION JACK</td>\n",
       "    </tr>\n",
       "    <tr>\n",
       "      <th>8</th>\n",
       "      <td>536366</td>\n",
       "      <td>HAND WARMER RED POLKA DOT</td>\n",
       "    </tr>\n",
       "    <tr>\n",
       "      <th>9</th>\n",
       "      <td>536368</td>\n",
       "      <td>JAM MAKING SET WITH JARS</td>\n",
       "    </tr>\n",
       "  </tbody>\n",
       "</table>\n",
       "</div>"
      ],
      "text/plain": [
       "  Invoice                          Description\n",
       "0  536365   WHITE HANGING HEART T-LIGHT HOLDER\n",
       "1  536365                  WHITE METAL LANTERN\n",
       "2  536365       CREAM CUPID HEARTS COAT HANGER\n",
       "3  536365  KNITTED UNION FLAG HOT WATER BOTTLE\n",
       "4  536365       RED WOOLLY HOTTIE WHITE HEART.\n",
       "5  536365         SET 7 BABUSHKA NESTING BOXES\n",
       "6  536365    GLASS STAR FROSTED T-LIGHT HOLDER\n",
       "7  536366               HAND WARMER UNION JACK\n",
       "8  536366            HAND WARMER RED POLKA DOT\n",
       "9  536368             JAM MAKING SET WITH JARS"
      ]
     },
     "execution_count": 28,
     "metadata": {},
     "output_type": "execute_result"
    }
   ],
   "source": [
    "df_clean.head(10)"
   ]
  },
  {
   "cell_type": "code",
   "execution_count": 30,
   "metadata": {},
   "outputs": [
    {
     "name": "stdout",
     "output_type": "stream",
     "text": [
      "Data dimension: (530694, 2)\n",
      "Count of unique invoice numbers: 20136\n"
     ]
    }
   ],
   "source": [
    "print(\"Data dimension: {dim}\".format(dim=df_clean.shape))\n",
    "print(\"Count of unique invoice numbers: {cnt}\".format(cnt=df_clean.Invoice.nunique()))"
   ]
  },
  {
   "cell_type": "code",
   "execution_count": null,
   "metadata": {},
   "outputs": [],
   "source": [
    "# Remove duplicate of invoice numbers"
   ]
  },
  {
   "cell_type": "code",
   "execution_count": 34,
   "metadata": {},
   "outputs": [
    {
     "name": "stdout",
     "output_type": "stream",
     "text": [
      "Length of list of invoice numbers: 20136\n"
     ]
    }
   ],
   "source": [
    "invoice_no_dup = df_clean.Invoice.tolist()\n",
    "invoice_no_dup = list(set(invoice_no_dup))\n",
    "print(\"Length of list of invoice numbers: {ln}\" \\\n",
    "      .format(ln=len(invoice_no_dup)))"
   ]
  },
  {
   "cell_type": "code",
   "execution_count": null,
   "metadata": {},
   "outputs": [],
   "source": [
    "# cut it to only include the first 10,000 elements"
   ]
  },
  {
   "cell_type": "code",
   "execution_count": 35,
   "metadata": {},
   "outputs": [
    {
     "name": "stdout",
     "output_type": "stream",
     "text": [
      "Length of subset list of invoice numbers: 10000\n"
     ]
    }
   ],
   "source": [
    "subset_invoice_no_dup = invoice_no_dup[0:10000]\n",
    "print(\"Length of subset list of invoice numbers: {ln}\"\\\n",
    "      .format(ln=len(subset_invoice_no_dup)))"
   ]
  },
  {
   "cell_type": "code",
   "execution_count": 36,
   "metadata": {},
   "outputs": [],
   "source": [
    "# filter data set down to based on\n",
    "# subset of invoice number list\n",
    "df_clean = df_clean.loc[df_clean[\"Invoice\"].isin(subset_invoice_no_dup)]"
   ]
  },
  {
   "cell_type": "code",
   "execution_count": 37,
   "metadata": {},
   "outputs": [
    {
     "data": {
      "text/plain": [
       "(260347, 2)"
      ]
     },
     "execution_count": 37,
     "metadata": {},
     "output_type": "execute_result"
    }
   ],
   "source": [
    "df_clean.shape"
   ]
  },
  {
   "cell_type": "code",
   "execution_count": 38,
   "metadata": {},
   "outputs": [
    {
     "name": "stdout",
     "output_type": "stream",
     "text": [
      "Data dimension: (260347, 2)\n",
      "Count of unique invoice numbers: 10000\n"
     ]
    }
   ],
   "source": [
    "print(\"Data dimension: {dim}\"\\\n",
    "      .format(dim=df_clean.shape))\n",
    "print(\"Count of unique invoice numbers: {cnt}\"\\\n",
    "      .format(cnt=df_clean.Invoice.nunique()))"
   ]
  },
  {
   "cell_type": "code",
   "execution_count": null,
   "metadata": {},
   "outputs": [],
   "source": [
    "#Transform the data in df_clean into the aforementioned list of lists called invoice_item_list"
   ]
  },
  {
   "cell_type": "code",
   "execution_count": 39,
   "metadata": {},
   "outputs": [
    {
     "name": "stdout",
     "output_type": "stream",
     "text": [
      "[['BLACK RECORD COVER FRAME', 'RED DINER WALL CLOCK', 'LUNCH BAG SUKI DESIGN ', 'LUNCH BAG PINK POLKADOT', 'LUNCH BAG SPACEBOY DESIGN ', 'LUNCH BAG CARS BLUE', 'LUNCH BAG  BLACK SKULL.', 'LUNCH BAG VINTAGE LEAF DESIGN', 'LUNCH BAG DOILEY PATTERN ', 'FUNKY WASHING UP GLOVES ASSORTED'], ['POSTAGE'], ['I LOVE LONDON BABY GIFT SET', 'RETRO PLASTIC ELEPHANT TRAY', 'AIRLINE LOUNGE,METAL SIGN', 'UNION JACK FLAG LUGGAGE TAG', 'FOOD COVER WITH BEADS SET 2 ', 'SET OF 4 NAPKIN CHARMS CUTLERY', 'LONDON BUS COFFEE MUG', 'CARD I LOVE LONDON ', 'REGENCY SUGAR BOWL GREEN', 'BLUE GIANT GARDEN THERMOMETER', 'PACK OF 60 PINK PAISLEY CAKE CASES', 'JAM MAKING SET WITH JARS', 'WOODEN ROUNDERS GARDEN SET ', 'BLACK LOVE BIRD T-LIGHT HOLDER', '72 SWEETHEART FAIRY CAKE CASES', 'PACK OF 60 DINOSAUR CAKE CASES', 'BROCADE RING PURSE ', 'JAM MAKING SET PRINTED', 'TOP SECRET PEN SET', '12 PENCILS SMALL TUBE RED RETROSPOT', '60 TEATIME FAIRY CAKE CASES', 'CHINESE DRAGON PAPER LANTERNS', 'PACK OF 72 SKULL CAKE CASES', 'SLEEPING CAT ERASERS', 'REX CASH+CARRY JUMBO SHOPPER', 'DOORMAT KEEP CALM AND COME IN', 'BLUE POLKADOT PASSPORT COVER', 'CHERRY BLOSSOM PASSPORT COVER', 'CHERRY CROCHET FOOD COVER', 'BAKING SET 9 PIECE RETROSPOT ', 'LONDON BUS COFFEE MUG'], ['3D HEARTS  HONEYCOMB PAPER GARLAND', 'GLASS  BEURRE DISH', 'YELLOW GIANT GARDEN THERMOMETER', 'GREEN GIANT GARDEN THERMOMETER']]\n"
     ]
    }
   ],
   "source": [
    "invoice_item_list = []\n",
    "for num in list(set(df_clean.Invoice.tolist())):\n",
    "    # filter data set down to one invoice number\n",
    "    tmp_df = df_clean.loc[df_clean['Invoice'] == num]\n",
    "    # extract item descriptions and convert to list\n",
    "    tmp_items = tmp_df.Description.tolist()\n",
    "    # append list invoice_item_list\n",
    "    invoice_item_list.append(tmp_items)\n",
    "    \n",
    "print(invoice_item_list[1:5])"
   ]
  },
  {
   "cell_type": "markdown",
   "metadata": {},
   "source": [
    "Data is filtered and subset to only the needed columns and the relevant rows and then cut the full dataset down to the first 10,000 unique invoice numbers. The last step converted the DataFrame to a list of lists."
   ]
  },
  {
   "cell_type": "markdown",
   "metadata": {},
   "source": [
    "## Data Encoding"
   ]
  },
  {
   "cell_type": "code",
   "execution_count": 46,
   "metadata": {},
   "outputs": [],
   "source": [
    "import mlxtend.frequent_patterns\n",
    "import mlxtend.preprocessing"
   ]
  },
  {
   "cell_type": "code",
   "execution_count": 47,
   "metadata": {},
   "outputs": [
    {
     "name": "stdout",
     "output_type": "stream",
     "text": [
      "[[False False False ... False False False]\n",
      " [False False False ... False False False]\n",
      " [False False False ... False False False]\n",
      " ...\n",
      " [False False False ... False False False]\n",
      " [False False False ... False False False]\n",
      " [False False False ... False False False]]\n"
     ]
    }
   ],
   "source": [
    "df_encoder = mlxtend.preprocessing.TransactionEncoder()\n",
    "df_encoder_array = df_encoder.fit_transform(invoice_item_list)\n",
    "print(df_encoder_array)"
   ]
  },
  {
   "cell_type": "code",
   "execution_count": 49,
   "metadata": {},
   "outputs": [
    {
     "data": {
      "text/html": [
       "<div>\n",
       "<style scoped>\n",
       "    .dataframe tbody tr th:only-of-type {\n",
       "        vertical-align: middle;\n",
       "    }\n",
       "\n",
       "    .dataframe tbody tr th {\n",
       "        vertical-align: top;\n",
       "    }\n",
       "\n",
       "    .dataframe thead th {\n",
       "        text-align: right;\n",
       "    }\n",
       "</style>\n",
       "<table border=\"1\" class=\"dataframe\">\n",
       "  <thead>\n",
       "    <tr style=\"text-align: right;\">\n",
       "      <th></th>\n",
       "      <th>4 PURPLE FLOCK DINNER CANDLES</th>\n",
       "      <th>50'S CHRISTMAS GIFT BAG LARGE</th>\n",
       "      <th>DOLLY GIRL BEAKER</th>\n",
       "      <th>I LOVE LONDON MINI BACKPACK</th>\n",
       "      <th>I LOVE LONDON MINI RUCKSACK</th>\n",
       "      <th>NINE DRAWER OFFICE TIDY</th>\n",
       "      <th>OVAL WALL MIRROR DIAMANTE</th>\n",
       "      <th>RED SPOT GIFT BAG LARGE</th>\n",
       "    </tr>\n",
       "  </thead>\n",
       "  <tbody>\n",
       "    <tr>\n",
       "      <th>6980</th>\n",
       "      <td>False</td>\n",
       "      <td>False</td>\n",
       "      <td>False</td>\n",
       "      <td>False</td>\n",
       "      <td>False</td>\n",
       "      <td>False</td>\n",
       "      <td>False</td>\n",
       "      <td>False</td>\n",
       "    </tr>\n",
       "    <tr>\n",
       "      <th>6981</th>\n",
       "      <td>False</td>\n",
       "      <td>False</td>\n",
       "      <td>False</td>\n",
       "      <td>False</td>\n",
       "      <td>False</td>\n",
       "      <td>False</td>\n",
       "      <td>False</td>\n",
       "      <td>False</td>\n",
       "    </tr>\n",
       "    <tr>\n",
       "      <th>6982</th>\n",
       "      <td>False</td>\n",
       "      <td>False</td>\n",
       "      <td>False</td>\n",
       "      <td>False</td>\n",
       "      <td>False</td>\n",
       "      <td>False</td>\n",
       "      <td>False</td>\n",
       "      <td>False</td>\n",
       "    </tr>\n",
       "    <tr>\n",
       "      <th>6983</th>\n",
       "      <td>False</td>\n",
       "      <td>False</td>\n",
       "      <td>False</td>\n",
       "      <td>False</td>\n",
       "      <td>False</td>\n",
       "      <td>False</td>\n",
       "      <td>False</td>\n",
       "      <td>False</td>\n",
       "    </tr>\n",
       "    <tr>\n",
       "      <th>6984</th>\n",
       "      <td>False</td>\n",
       "      <td>False</td>\n",
       "      <td>False</td>\n",
       "      <td>False</td>\n",
       "      <td>False</td>\n",
       "      <td>False</td>\n",
       "      <td>False</td>\n",
       "      <td>False</td>\n",
       "    </tr>\n",
       "    <tr>\n",
       "      <th>6985</th>\n",
       "      <td>False</td>\n",
       "      <td>False</td>\n",
       "      <td>False</td>\n",
       "      <td>False</td>\n",
       "      <td>False</td>\n",
       "      <td>False</td>\n",
       "      <td>False</td>\n",
       "      <td>False</td>\n",
       "    </tr>\n",
       "    <tr>\n",
       "      <th>6986</th>\n",
       "      <td>False</td>\n",
       "      <td>False</td>\n",
       "      <td>False</td>\n",
       "      <td>False</td>\n",
       "      <td>False</td>\n",
       "      <td>False</td>\n",
       "      <td>False</td>\n",
       "      <td>False</td>\n",
       "    </tr>\n",
       "    <tr>\n",
       "      <th>6987</th>\n",
       "      <td>False</td>\n",
       "      <td>False</td>\n",
       "      <td>False</td>\n",
       "      <td>False</td>\n",
       "      <td>False</td>\n",
       "      <td>False</td>\n",
       "      <td>False</td>\n",
       "      <td>False</td>\n",
       "    </tr>\n",
       "    <tr>\n",
       "      <th>6988</th>\n",
       "      <td>False</td>\n",
       "      <td>False</td>\n",
       "      <td>False</td>\n",
       "      <td>False</td>\n",
       "      <td>False</td>\n",
       "      <td>False</td>\n",
       "      <td>False</td>\n",
       "      <td>False</td>\n",
       "    </tr>\n",
       "    <tr>\n",
       "      <th>6989</th>\n",
       "      <td>False</td>\n",
       "      <td>False</td>\n",
       "      <td>False</td>\n",
       "      <td>False</td>\n",
       "      <td>False</td>\n",
       "      <td>False</td>\n",
       "      <td>False</td>\n",
       "      <td>False</td>\n",
       "    </tr>\n",
       "  </tbody>\n",
       "</table>\n",
       "</div>"
      ],
      "text/plain": [
       "       4 PURPLE FLOCK DINNER CANDLES   50'S CHRISTMAS GIFT BAG LARGE  \\\n",
       "6980                           False                           False   \n",
       "6981                           False                           False   \n",
       "6982                           False                           False   \n",
       "6983                           False                           False   \n",
       "6984                           False                           False   \n",
       "6985                           False                           False   \n",
       "6986                           False                           False   \n",
       "6987                           False                           False   \n",
       "6988                           False                           False   \n",
       "6989                           False                           False   \n",
       "\n",
       "       DOLLY GIRL BEAKER   I LOVE LONDON MINI BACKPACK  \\\n",
       "6980               False                         False   \n",
       "6981               False                         False   \n",
       "6982               False                         False   \n",
       "6983               False                         False   \n",
       "6984               False                         False   \n",
       "6985               False                         False   \n",
       "6986               False                         False   \n",
       "6987               False                         False   \n",
       "6988               False                         False   \n",
       "6989               False                         False   \n",
       "\n",
       "       I LOVE LONDON MINI RUCKSACK   NINE DRAWER OFFICE TIDY  \\\n",
       "6980                         False                     False   \n",
       "6981                         False                     False   \n",
       "6982                         False                     False   \n",
       "6983                         False                     False   \n",
       "6984                         False                     False   \n",
       "6985                         False                     False   \n",
       "6986                         False                     False   \n",
       "6987                         False                     False   \n",
       "6988                         False                     False   \n",
       "6989                         False                     False   \n",
       "\n",
       "       OVAL WALL MIRROR DIAMANTE    RED SPOT GIFT BAG LARGE  \n",
       "6980                        False                     False  \n",
       "6981                        False                     False  \n",
       "6982                        False                     False  \n",
       "6983                        False                     False  \n",
       "6984                        False                     False  \n",
       "6985                        False                     False  \n",
       "6986                        False                     False  \n",
       "6987                        False                     False  \n",
       "6988                        False                     False  \n",
       "6989                        False                     False  "
      ]
     },
     "execution_count": 49,
     "metadata": {},
     "output_type": "execute_result"
    }
   ],
   "source": [
    "df_encoder_df = pd.DataFrame(\n",
    "    df_encoder_array, \n",
    "    columns=df_encoder.columns_\n",
    ")\n",
    "\n",
    "# this is a very big table, so for more \n",
    "# easy viewing only a subset is printed\n",
    "df_encoder_df.loc[\n",
    "    6980:6989, \n",
    "    df_encoder_df.columns.tolist()[0:8]\n",
    "]"
   ]
  },
  {
   "cell_type": "markdown",
   "metadata": {},
   "source": [
    "The Apriori principle: any subset of a frequent item set must itself be frequent."
   ]
  },
  {
   "cell_type": "code",
   "execution_count": 50,
   "metadata": {},
   "outputs": [
    {
     "name": "stdout",
     "output_type": "stream",
     "text": [
      "Data dimension (row count, col count): (10000, 3916)\n"
     ]
    }
   ],
   "source": [
    "print(\"Data dimension (row count, col count): {dim}\".format(dim=df_encoder_df.shape))"
   ]
  },
  {
   "cell_type": "markdown",
   "metadata": {},
   "source": [
    "#### The Apriori Algorithm "
   ]
  },
  {
   "cell_type": "markdown",
   "metadata": {},
   "source": [
    "The Apriori algorithm is a data mining methodology for identifying and quantifying frequent item sets in transaction data and is the foundational component of association rule learning."
   ]
  },
  {
   "cell_type": "code",
   "execution_count": 52,
   "metadata": {},
   "outputs": [
    {
     "data": {
      "text/html": [
       "<div>\n",
       "<style scoped>\n",
       "    .dataframe tbody tr th:only-of-type {\n",
       "        vertical-align: middle;\n",
       "    }\n",
       "\n",
       "    .dataframe tbody tr th {\n",
       "        vertical-align: top;\n",
       "    }\n",
       "\n",
       "    .dataframe thead th {\n",
       "        text-align: right;\n",
       "    }\n",
       "</style>\n",
       "<table border=\"1\" class=\"dataframe\">\n",
       "  <thead>\n",
       "    <tr style=\"text-align: right;\">\n",
       "      <th></th>\n",
       "      <th>support</th>\n",
       "      <th>itemsets</th>\n",
       "    </tr>\n",
       "  </thead>\n",
       "  <tbody>\n",
       "    <tr>\n",
       "      <th>0</th>\n",
       "      <td>0.0139</td>\n",
       "      <td>(8)</td>\n",
       "    </tr>\n",
       "    <tr>\n",
       "      <th>1</th>\n",
       "      <td>0.0164</td>\n",
       "      <td>(13)</td>\n",
       "    </tr>\n",
       "    <tr>\n",
       "      <th>2</th>\n",
       "      <td>0.0120</td>\n",
       "      <td>(19)</td>\n",
       "    </tr>\n",
       "    <tr>\n",
       "      <th>3</th>\n",
       "      <td>0.0167</td>\n",
       "      <td>(20)</td>\n",
       "    </tr>\n",
       "    <tr>\n",
       "      <th>4</th>\n",
       "      <td>0.0179</td>\n",
       "      <td>(21)</td>\n",
       "    </tr>\n",
       "    <tr>\n",
       "      <th>5</th>\n",
       "      <td>0.0169</td>\n",
       "      <td>(22)</td>\n",
       "    </tr>\n",
       "    <tr>\n",
       "      <th>6</th>\n",
       "      <td>0.0132</td>\n",
       "      <td>(24)</td>\n",
       "    </tr>\n",
       "    <tr>\n",
       "      <th>7</th>\n",
       "      <td>0.0116</td>\n",
       "      <td>(25)</td>\n",
       "    </tr>\n",
       "    <tr>\n",
       "      <th>8</th>\n",
       "      <td>0.0132</td>\n",
       "      <td>(26)</td>\n",
       "    </tr>\n",
       "    <tr>\n",
       "      <th>9</th>\n",
       "      <td>0.0138</td>\n",
       "      <td>(31)</td>\n",
       "    </tr>\n",
       "    <tr>\n",
       "      <th>10</th>\n",
       "      <td>0.0108</td>\n",
       "      <td>(39)</td>\n",
       "    </tr>\n",
       "  </tbody>\n",
       "</table>\n",
       "</div>"
      ],
      "text/plain": [
       "    support itemsets\n",
       "0    0.0139      (8)\n",
       "1    0.0164     (13)\n",
       "2    0.0120     (19)\n",
       "3    0.0167     (20)\n",
       "4    0.0179     (21)\n",
       "5    0.0169     (22)\n",
       "6    0.0132     (24)\n",
       "7    0.0116     (25)\n",
       "8    0.0132     (26)\n",
       "9    0.0138     (31)\n",
       "10   0.0108     (39)"
      ]
     },
     "execution_count": 52,
     "metadata": {},
     "output_type": "execute_result"
    }
   ],
   "source": [
    "mod_minsupport = mlxtend.frequent_patterns.apriori(\n",
    "    df_encoder_df,\n",
    "    min_support=0.01\n",
    ")\n",
    "mod_minsupport.loc[0:10]"
   ]
  },
  {
   "cell_type": "markdown",
   "metadata": {},
   "source": [
    "This minimum support value is the same as saying that when analyzing 10,000 transactions, we need an item set to appear 100 times to be considered frequent."
   ]
  },
  {
   "cell_type": "code",
   "execution_count": 53,
   "metadata": {},
   "outputs": [
    {
     "data": {
      "text/html": [
       "<div>\n",
       "<style scoped>\n",
       "    .dataframe tbody tr th:only-of-type {\n",
       "        vertical-align: middle;\n",
       "    }\n",
       "\n",
       "    .dataframe tbody tr th {\n",
       "        vertical-align: top;\n",
       "    }\n",
       "\n",
       "    .dataframe thead th {\n",
       "        text-align: right;\n",
       "    }\n",
       "</style>\n",
       "<table border=\"1\" class=\"dataframe\">\n",
       "  <thead>\n",
       "    <tr style=\"text-align: right;\">\n",
       "      <th></th>\n",
       "      <th>support</th>\n",
       "      <th>itemsets</th>\n",
       "    </tr>\n",
       "  </thead>\n",
       "  <tbody>\n",
       "    <tr>\n",
       "      <th>0</th>\n",
       "      <td>0.0139</td>\n",
       "      <td>( SET 2 TEA TOWELS I LOVE LONDON )</td>\n",
       "    </tr>\n",
       "    <tr>\n",
       "      <th>1</th>\n",
       "      <td>0.0164</td>\n",
       "      <td>(10 COLOUR SPACEBOY PEN)</td>\n",
       "    </tr>\n",
       "    <tr>\n",
       "      <th>2</th>\n",
       "      <td>0.0120</td>\n",
       "      <td>(12 MESSAGE CARDS WITH ENVELOPES)</td>\n",
       "    </tr>\n",
       "    <tr>\n",
       "      <th>3</th>\n",
       "      <td>0.0167</td>\n",
       "      <td>(12 PENCIL SMALL TUBE WOODLAND)</td>\n",
       "    </tr>\n",
       "    <tr>\n",
       "      <th>4</th>\n",
       "      <td>0.0179</td>\n",
       "      <td>(12 PENCILS SMALL TUBE RED RETROSPOT)</td>\n",
       "    </tr>\n",
       "    <tr>\n",
       "      <th>5</th>\n",
       "      <td>0.0169</td>\n",
       "      <td>(12 PENCILS SMALL TUBE SKULL)</td>\n",
       "    </tr>\n",
       "    <tr>\n",
       "      <th>6</th>\n",
       "      <td>0.0132</td>\n",
       "      <td>(12 PENCILS TALL TUBE RED RETROSPOT)</td>\n",
       "    </tr>\n",
       "    <tr>\n",
       "      <th>7</th>\n",
       "      <td>0.0116</td>\n",
       "      <td>(12 PENCILS TALL TUBE SKULLS)</td>\n",
       "    </tr>\n",
       "    <tr>\n",
       "      <th>8</th>\n",
       "      <td>0.0132</td>\n",
       "      <td>(12 PENCILS TALL TUBE WOODLAND)</td>\n",
       "    </tr>\n",
       "    <tr>\n",
       "      <th>9</th>\n",
       "      <td>0.0138</td>\n",
       "      <td>(15CM CHRISTMAS GLASS BALL 20 LIGHTS)</td>\n",
       "    </tr>\n",
       "    <tr>\n",
       "      <th>10</th>\n",
       "      <td>0.0108</td>\n",
       "      <td>(20 DOLLY PEGS RETROSPOT)</td>\n",
       "    </tr>\n",
       "  </tbody>\n",
       "</table>\n",
       "</div>"
      ],
      "text/plain": [
       "    support                               itemsets\n",
       "0    0.0139     ( SET 2 TEA TOWELS I LOVE LONDON )\n",
       "1    0.0164               (10 COLOUR SPACEBOY PEN)\n",
       "2    0.0120      (12 MESSAGE CARDS WITH ENVELOPES)\n",
       "3    0.0167        (12 PENCIL SMALL TUBE WOODLAND)\n",
       "4    0.0179  (12 PENCILS SMALL TUBE RED RETROSPOT)\n",
       "5    0.0169          (12 PENCILS SMALL TUBE SKULL)\n",
       "6    0.0132   (12 PENCILS TALL TUBE RED RETROSPOT)\n",
       "7    0.0116          (12 PENCILS TALL TUBE SKULLS)\n",
       "8    0.0132        (12 PENCILS TALL TUBE WOODLAND)\n",
       "9    0.0138  (15CM CHRISTMAS GLASS BALL 20 LIGHTS)\n",
       "10   0.0108              (20 DOLLY PEGS RETROSPOT)"
      ]
     },
     "execution_count": 53,
     "metadata": {},
     "output_type": "execute_result"
    }
   ],
   "source": [
    "# add colnames for easier interpretability\n",
    "\n",
    "mod_colnames_minsupport = mlxtend.frequent_patterns.apriori(\n",
    "    df_encoder_df, \n",
    "    min_support=0.01,\n",
    "    use_colnames=True\n",
    ")\n",
    "mod_colnames_minsupport.loc[0:10]"
   ]
  },
  {
   "cell_type": "markdown",
   "metadata": {},
   "source": [
    "These item sets occur with sufficient frequency to potentially be meaningful and actionable."
   ]
  },
  {
   "cell_type": "code",
   "execution_count": 54,
   "metadata": {},
   "outputs": [
    {
     "data": {
      "text/html": [
       "<div>\n",
       "<style scoped>\n",
       "    .dataframe tbody tr th:only-of-type {\n",
       "        vertical-align: middle;\n",
       "    }\n",
       "\n",
       "    .dataframe tbody tr th {\n",
       "        vertical-align: top;\n",
       "    }\n",
       "\n",
       "    .dataframe thead th {\n",
       "        text-align: right;\n",
       "    }\n",
       "</style>\n",
       "<table border=\"1\" class=\"dataframe\">\n",
       "  <thead>\n",
       "    <tr style=\"text-align: right;\">\n",
       "      <th></th>\n",
       "      <th>support</th>\n",
       "      <th>itemsets</th>\n",
       "      <th>length</th>\n",
       "    </tr>\n",
       "  </thead>\n",
       "  <tbody>\n",
       "    <tr>\n",
       "      <th>0</th>\n",
       "      <td>0.0139</td>\n",
       "      <td>( SET 2 TEA TOWELS I LOVE LONDON )</td>\n",
       "      <td>1</td>\n",
       "    </tr>\n",
       "    <tr>\n",
       "      <th>1</th>\n",
       "      <td>0.0164</td>\n",
       "      <td>(10 COLOUR SPACEBOY PEN)</td>\n",
       "      <td>1</td>\n",
       "    </tr>\n",
       "    <tr>\n",
       "      <th>2</th>\n",
       "      <td>0.0120</td>\n",
       "      <td>(12 MESSAGE CARDS WITH ENVELOPES)</td>\n",
       "      <td>1</td>\n",
       "    </tr>\n",
       "    <tr>\n",
       "      <th>3</th>\n",
       "      <td>0.0167</td>\n",
       "      <td>(12 PENCIL SMALL TUBE WOODLAND)</td>\n",
       "      <td>1</td>\n",
       "    </tr>\n",
       "    <tr>\n",
       "      <th>4</th>\n",
       "      <td>0.0179</td>\n",
       "      <td>(12 PENCILS SMALL TUBE RED RETROSPOT)</td>\n",
       "      <td>1</td>\n",
       "    </tr>\n",
       "    <tr>\n",
       "      <th>5</th>\n",
       "      <td>0.0169</td>\n",
       "      <td>(12 PENCILS SMALL TUBE SKULL)</td>\n",
       "      <td>1</td>\n",
       "    </tr>\n",
       "    <tr>\n",
       "      <th>6</th>\n",
       "      <td>0.0132</td>\n",
       "      <td>(12 PENCILS TALL TUBE RED RETROSPOT)</td>\n",
       "      <td>1</td>\n",
       "    </tr>\n",
       "    <tr>\n",
       "      <th>7</th>\n",
       "      <td>0.0116</td>\n",
       "      <td>(12 PENCILS TALL TUBE SKULLS)</td>\n",
       "      <td>1</td>\n",
       "    </tr>\n",
       "    <tr>\n",
       "      <th>8</th>\n",
       "      <td>0.0132</td>\n",
       "      <td>(12 PENCILS TALL TUBE WOODLAND)</td>\n",
       "      <td>1</td>\n",
       "    </tr>\n",
       "    <tr>\n",
       "      <th>9</th>\n",
       "      <td>0.0138</td>\n",
       "      <td>(15CM CHRISTMAS GLASS BALL 20 LIGHTS)</td>\n",
       "      <td>1</td>\n",
       "    </tr>\n",
       "    <tr>\n",
       "      <th>10</th>\n",
       "      <td>0.0108</td>\n",
       "      <td>(20 DOLLY PEGS RETROSPOT)</td>\n",
       "      <td>1</td>\n",
       "    </tr>\n",
       "  </tbody>\n",
       "</table>\n",
       "</div>"
      ],
      "text/plain": [
       "    support                               itemsets  length\n",
       "0    0.0139     ( SET 2 TEA TOWELS I LOVE LONDON )       1\n",
       "1    0.0164               (10 COLOUR SPACEBOY PEN)       1\n",
       "2    0.0120      (12 MESSAGE CARDS WITH ENVELOPES)       1\n",
       "3    0.0167        (12 PENCIL SMALL TUBE WOODLAND)       1\n",
       "4    0.0179  (12 PENCILS SMALL TUBE RED RETROSPOT)       1\n",
       "5    0.0169          (12 PENCILS SMALL TUBE SKULL)       1\n",
       "6    0.0132   (12 PENCILS TALL TUBE RED RETROSPOT)       1\n",
       "7    0.0116          (12 PENCILS TALL TUBE SKULLS)       1\n",
       "8    0.0132        (12 PENCILS TALL TUBE WOODLAND)       1\n",
       "9    0.0138  (15CM CHRISTMAS GLASS BALL 20 LIGHTS)       1\n",
       "10   0.0108              (20 DOLLY PEGS RETROSPOT)       1"
      ]
     },
     "execution_count": 54,
     "metadata": {},
     "output_type": "execute_result"
    }
   ],
   "source": [
    "# add how many items are in the set\n",
    "mod_colnames_minsupport['length'] = \\\n",
    "(mod_colnames_minsupport['itemsets'].apply(lambda x: len(x)))\n",
    "mod_colnames_minsupport.loc[0:10]"
   ]
  },
  {
   "cell_type": "code",
   "execution_count": null,
   "metadata": {},
   "outputs": [],
   "source": [
    "# filtered down to a single item set"
   ]
  },
  {
   "cell_type": "code",
   "execution_count": 55,
   "metadata": {},
   "outputs": [
    {
     "data": {
      "text/html": [
       "<div>\n",
       "<style scoped>\n",
       "    .dataframe tbody tr th:only-of-type {\n",
       "        vertical-align: middle;\n",
       "    }\n",
       "\n",
       "    .dataframe tbody tr th {\n",
       "        vertical-align: top;\n",
       "    }\n",
       "\n",
       "    .dataframe thead th {\n",
       "        text-align: right;\n",
       "    }\n",
       "</style>\n",
       "<table border=\"1\" class=\"dataframe\">\n",
       "  <thead>\n",
       "    <tr style=\"text-align: right;\">\n",
       "      <th></th>\n",
       "      <th>support</th>\n",
       "      <th>itemsets</th>\n",
       "      <th>length</th>\n",
       "    </tr>\n",
       "  </thead>\n",
       "  <tbody>\n",
       "    <tr>\n",
       "      <th>9</th>\n",
       "      <td>0.0138</td>\n",
       "      <td>(15CM CHRISTMAS GLASS BALL 20 LIGHTS)</td>\n",
       "      <td>1</td>\n",
       "    </tr>\n",
       "  </tbody>\n",
       "</table>\n",
       "</div>"
      ],
      "text/plain": [
       "   support                               itemsets  length\n",
       "9   0.0138  (15CM CHRISTMAS GLASS BALL 20 LIGHTS)       1"
      ]
     },
     "execution_count": 55,
     "metadata": {},
     "output_type": "execute_result"
    }
   ],
   "source": [
    "mod_colnames_minsupport[\n",
    "    mod_colnames_minsupport['itemsets'] == frozenset(\n",
    "        {'15CM CHRISTMAS GLASS BALL 20 LIGHTS'}\n",
    "    )\n",
    "]"
   ]
  },
  {
   "cell_type": "markdown",
   "metadata": {},
   "source": [
    "The support value says that this specific item set appears in 1.38% of the transactions."
   ]
  },
  {
   "cell_type": "code",
   "execution_count": null,
   "metadata": {},
   "outputs": [],
   "source": [
    "# Return all item sets of length 2 whose support is in the range [0.03, 0.031]"
   ]
  },
  {
   "cell_type": "code",
   "execution_count": 61,
   "metadata": {},
   "outputs": [
    {
     "data": {
      "text/html": [
       "<div>\n",
       "<style scoped>\n",
       "    .dataframe tbody tr th:only-of-type {\n",
       "        vertical-align: middle;\n",
       "    }\n",
       "\n",
       "    .dataframe tbody tr th {\n",
       "        vertical-align: top;\n",
       "    }\n",
       "\n",
       "    .dataframe thead th {\n",
       "        text-align: right;\n",
       "    }\n",
       "</style>\n",
       "<table border=\"1\" class=\"dataframe\">\n",
       "  <thead>\n",
       "    <tr style=\"text-align: right;\">\n",
       "      <th></th>\n",
       "      <th>support</th>\n",
       "      <th>itemsets</th>\n",
       "      <th>length</th>\n",
       "    </tr>\n",
       "  </thead>\n",
       "  <tbody>\n",
       "    <tr>\n",
       "      <th>869</th>\n",
       "      <td>0.0203</td>\n",
       "      <td>(CHARLOTTE BAG PINK POLKADOT, CHARLOTTE BAG SU...</td>\n",
       "      <td>2</td>\n",
       "    </tr>\n",
       "    <tr>\n",
       "      <th>907</th>\n",
       "      <td>0.0202</td>\n",
       "      <td>(STRAWBERRY CHARLOTTE BAG, CHARLOTTE BAG SUKI ...</td>\n",
       "      <td>2</td>\n",
       "    </tr>\n",
       "    <tr>\n",
       "      <th>1089</th>\n",
       "      <td>0.0204</td>\n",
       "      <td>(JUMBO BAG ALPHABET, JUMBO BAG APPLES)</td>\n",
       "      <td>2</td>\n",
       "    </tr>\n",
       "    <tr>\n",
       "      <th>1093</th>\n",
       "      <td>0.0208</td>\n",
       "      <td>(JUMBO BAG ALPHABET, JUMBO BAG RED RETROSPOT)</td>\n",
       "      <td>2</td>\n",
       "    </tr>\n",
       "    <tr>\n",
       "      <th>1171</th>\n",
       "      <td>0.0206</td>\n",
       "      <td>(JUMBO SHOPPER VINTAGE RED PAISLEY, JUMBO BAG ...</td>\n",
       "      <td>2</td>\n",
       "    </tr>\n",
       "    <tr>\n",
       "      <th>1207</th>\n",
       "      <td>0.0205</td>\n",
       "      <td>(RED RETROSPOT CHARLOTTE BAG, JUMBO BAG RED RE...</td>\n",
       "      <td>2</td>\n",
       "    </tr>\n",
       "    <tr>\n",
       "      <th>1329</th>\n",
       "      <td>0.0204</td>\n",
       "      <td>(LUNCH BAG APPLE DESIGN, LUNCH BAG SPACEBOY DE...</td>\n",
       "      <td>2</td>\n",
       "    </tr>\n",
       "    <tr>\n",
       "      <th>1360</th>\n",
       "      <td>0.0207</td>\n",
       "      <td>(LUNCH BAG PINK POLKADOT, LUNCH BAG SUKI DESIGN )</td>\n",
       "      <td>2</td>\n",
       "    </tr>\n",
       "    <tr>\n",
       "      <th>1363</th>\n",
       "      <td>0.0204</td>\n",
       "      <td>(LUNCH BAG PINK POLKADOT, LUNCH BAG WOODLAND)</td>\n",
       "      <td>2</td>\n",
       "    </tr>\n",
       "    <tr>\n",
       "      <th>1402</th>\n",
       "      <td>0.0204</td>\n",
       "      <td>(LUNCH BAG WOODLAND, LUNCH BAG SUKI DESIGN )</td>\n",
       "      <td>2</td>\n",
       "    </tr>\n",
       "    <tr>\n",
       "      <th>1466</th>\n",
       "      <td>0.0205</td>\n",
       "      <td>(PINK REGENCY TEACUP AND SAUCER, REGENCY CAKES...</td>\n",
       "      <td>2</td>\n",
       "    </tr>\n",
       "    <tr>\n",
       "      <th>1490</th>\n",
       "      <td>0.0201</td>\n",
       "      <td>(RECIPE BOX PANTRY YELLOW DESIGN, SET OF 3 CAK...</td>\n",
       "      <td>2</td>\n",
       "    </tr>\n",
       "    <tr>\n",
       "      <th>1541</th>\n",
       "      <td>0.0208</td>\n",
       "      <td>(SET OF 6 SPICE TINS PANTRY DESIGN, SET OF 3 C...</td>\n",
       "      <td>2</td>\n",
       "    </tr>\n",
       "  </tbody>\n",
       "</table>\n",
       "</div>"
      ],
      "text/plain": [
       "      support                                           itemsets  length\n",
       "869    0.0203  (CHARLOTTE BAG PINK POLKADOT, CHARLOTTE BAG SU...       2\n",
       "907    0.0202  (STRAWBERRY CHARLOTTE BAG, CHARLOTTE BAG SUKI ...       2\n",
       "1089   0.0204             (JUMBO BAG ALPHABET, JUMBO BAG APPLES)       2\n",
       "1093   0.0208      (JUMBO BAG ALPHABET, JUMBO BAG RED RETROSPOT)       2\n",
       "1171   0.0206  (JUMBO SHOPPER VINTAGE RED PAISLEY, JUMBO BAG ...       2\n",
       "1207   0.0205  (RED RETROSPOT CHARLOTTE BAG, JUMBO BAG RED RE...       2\n",
       "1329   0.0204  (LUNCH BAG APPLE DESIGN, LUNCH BAG SPACEBOY DE...       2\n",
       "1360   0.0207  (LUNCH BAG PINK POLKADOT, LUNCH BAG SUKI DESIGN )       2\n",
       "1363   0.0204      (LUNCH BAG PINK POLKADOT, LUNCH BAG WOODLAND)       2\n",
       "1402   0.0204       (LUNCH BAG WOODLAND, LUNCH BAG SUKI DESIGN )       2\n",
       "1466   0.0205  (PINK REGENCY TEACUP AND SAUCER, REGENCY CAKES...       2\n",
       "1490   0.0201  (RECIPE BOX PANTRY YELLOW DESIGN, SET OF 3 CAK...       2\n",
       "1541   0.0208  (SET OF 6 SPICE TINS PANTRY DESIGN, SET OF 3 C...       2"
      ]
     },
     "execution_count": 61,
     "metadata": {},
     "output_type": "execute_result"
    }
   ],
   "source": [
    "mod_colnames_minsupport[\n",
    "    (mod_colnames_minsupport['length'] == 2) & \n",
    "    (mod_colnames_minsupport['support'] >= 0.02) &\n",
    "    (mod_colnames_minsupport['support'] < 0.021)\n",
    "]"
   ]
  },
  {
   "cell_type": "markdown",
   "metadata": {},
   "source": [
    "Each of these item sets appears in between 2.0% and 2.1% of transactions."
   ]
  },
  {
   "cell_type": "code",
   "execution_count": 62,
   "metadata": {},
   "outputs": [
    {
     "data": {
      "image/png": "[encoded data removed]",
      "text/plain": [
       "<Figure size 432x288 with 1 Axes>"
      ]
     },
     "metadata": {
      "needs_background": "light"
     },
     "output_type": "display_data"
    }
   ],
   "source": [
    "mod_colnames_minsupport.hist(\"support\", grid=False, bins=30)\n",
    "plt.xlabel(\"Support of item\")\n",
    "plt.ylabel(\"Number of items\")\n",
    "plt.title(\"Frequency distribution of Support\")\n",
    "plt.show()"
   ]
  },
  {
   "cell_type": "markdown",
   "metadata": {},
   "source": [
    "#### Association Rules"
   ]
  },
  {
   "cell_type": "markdown",
   "metadata": {},
   "source": [
    "Association rule learning is a machine learning model that seeks to unearth the hidden patterns (in other words, relationships) in transaction data that describe the shopping habits of the customers of any retailer. "
   ]
  },
  {
   "cell_type": "code",
   "execution_count": 63,
   "metadata": {},
   "outputs": [
    {
     "data": {
      "text/html": [
       "<div>\n",
       "<style scoped>\n",
       "    .dataframe tbody tr th:only-of-type {\n",
       "        vertical-align: middle;\n",
       "    }\n",
       "\n",
       "    .dataframe tbody tr th {\n",
       "        vertical-align: top;\n",
       "    }\n",
       "\n",
       "    .dataframe thead th {\n",
       "        text-align: right;\n",
       "    }\n",
       "</style>\n",
       "<table border=\"1\" class=\"dataframe\">\n",
       "  <thead>\n",
       "    <tr style=\"text-align: right;\">\n",
       "      <th></th>\n",
       "      <th>antecedents</th>\n",
       "      <th>consequents</th>\n",
       "      <th>antecedent support</th>\n",
       "      <th>consequent support</th>\n",
       "      <th>support</th>\n",
       "      <th>confidence</th>\n",
       "      <th>lift</th>\n",
       "      <th>leverage</th>\n",
       "      <th>conviction</th>\n",
       "    </tr>\n",
       "  </thead>\n",
       "  <tbody>\n",
       "    <tr>\n",
       "      <th>0</th>\n",
       "      <td>(ALARM CLOCK BAKELIKE CHOCOLATE)</td>\n",
       "      <td>(ALARM CLOCK BAKELIKE GREEN)</td>\n",
       "      <td>0.0210</td>\n",
       "      <td>0.0461</td>\n",
       "      <td>0.0136</td>\n",
       "      <td>0.647619</td>\n",
       "      <td>14.048136</td>\n",
       "      <td>0.012632</td>\n",
       "      <td>2.707014</td>\n",
       "    </tr>\n",
       "    <tr>\n",
       "      <th>1</th>\n",
       "      <td>(ALARM CLOCK BAKELIKE CHOCOLATE)</td>\n",
       "      <td>(ALARM CLOCK BAKELIKE RED )</td>\n",
       "      <td>0.0210</td>\n",
       "      <td>0.0506</td>\n",
       "      <td>0.0140</td>\n",
       "      <td>0.666667</td>\n",
       "      <td>13.175231</td>\n",
       "      <td>0.012937</td>\n",
       "      <td>2.848200</td>\n",
       "    </tr>\n",
       "    <tr>\n",
       "      <th>2</th>\n",
       "      <td>(ALARM CLOCK BAKELIKE IVORY)</td>\n",
       "      <td>(ALARM CLOCK BAKELIKE GREEN)</td>\n",
       "      <td>0.0270</td>\n",
       "      <td>0.0461</td>\n",
       "      <td>0.0164</td>\n",
       "      <td>0.607407</td>\n",
       "      <td>13.175866</td>\n",
       "      <td>0.015155</td>\n",
       "      <td>2.429745</td>\n",
       "    </tr>\n",
       "    <tr>\n",
       "      <th>3</th>\n",
       "      <td>(ALARM CLOCK BAKELIKE ORANGE)</td>\n",
       "      <td>(ALARM CLOCK BAKELIKE GREEN)</td>\n",
       "      <td>0.0213</td>\n",
       "      <td>0.0461</td>\n",
       "      <td>0.0133</td>\n",
       "      <td>0.624413</td>\n",
       "      <td>13.544754</td>\n",
       "      <td>0.012318</td>\n",
       "      <td>2.539759</td>\n",
       "    </tr>\n",
       "    <tr>\n",
       "      <th>4</th>\n",
       "      <td>(ALARM CLOCK BAKELIKE GREEN)</td>\n",
       "      <td>(ALARM CLOCK BAKELIKE RED )</td>\n",
       "      <td>0.0461</td>\n",
       "      <td>0.0506</td>\n",
       "      <td>0.0315</td>\n",
       "      <td>0.683297</td>\n",
       "      <td>13.503897</td>\n",
       "      <td>0.029167</td>\n",
       "      <td>2.997763</td>\n",
       "    </tr>\n",
       "    <tr>\n",
       "      <th>5</th>\n",
       "      <td>(ALARM CLOCK BAKELIKE RED )</td>\n",
       "      <td>(ALARM CLOCK BAKELIKE GREEN)</td>\n",
       "      <td>0.0506</td>\n",
       "      <td>0.0461</td>\n",
       "      <td>0.0315</td>\n",
       "      <td>0.622530</td>\n",
       "      <td>13.503897</td>\n",
       "      <td>0.029167</td>\n",
       "      <td>2.527086</td>\n",
       "    </tr>\n",
       "    <tr>\n",
       "      <th>6</th>\n",
       "      <td>(ALARM CLOCK BAKELIKE IVORY)</td>\n",
       "      <td>(ALARM CLOCK BAKELIKE RED )</td>\n",
       "      <td>0.0270</td>\n",
       "      <td>0.0506</td>\n",
       "      <td>0.0185</td>\n",
       "      <td>0.685185</td>\n",
       "      <td>13.541209</td>\n",
       "      <td>0.017134</td>\n",
       "      <td>3.015741</td>\n",
       "    </tr>\n",
       "    <tr>\n",
       "      <th>7</th>\n",
       "      <td>(ALARM CLOCK BAKELIKE ORANGE)</td>\n",
       "      <td>(ALARM CLOCK BAKELIKE RED )</td>\n",
       "      <td>0.0213</td>\n",
       "      <td>0.0506</td>\n",
       "      <td>0.0141</td>\n",
       "      <td>0.661972</td>\n",
       "      <td>13.082447</td>\n",
       "      <td>0.013022</td>\n",
       "      <td>2.808642</td>\n",
       "    </tr>\n",
       "    <tr>\n",
       "      <th>8</th>\n",
       "      <td>(ALARM CLOCK BAKELIKE PINK)</td>\n",
       "      <td>(ALARM CLOCK BAKELIKE RED )</td>\n",
       "      <td>0.0363</td>\n",
       "      <td>0.0506</td>\n",
       "      <td>0.0222</td>\n",
       "      <td>0.611570</td>\n",
       "      <td>12.086369</td>\n",
       "      <td>0.020363</td>\n",
       "      <td>2.444200</td>\n",
       "    </tr>\n",
       "    <tr>\n",
       "      <th>9</th>\n",
       "      <td>(PAINTED METAL PEARS ASSORTED)</td>\n",
       "      <td>(ASSORTED COLOUR BIRD ORNAMENT)</td>\n",
       "      <td>0.0188</td>\n",
       "      <td>0.0728</td>\n",
       "      <td>0.0133</td>\n",
       "      <td>0.707447</td>\n",
       "      <td>9.717676</td>\n",
       "      <td>0.011931</td>\n",
       "      <td>3.169338</td>\n",
       "    </tr>\n",
       "    <tr>\n",
       "      <th>10</th>\n",
       "      <td>(BAKING SET SPACEBOY DESIGN)</td>\n",
       "      <td>(BAKING SET 9 PIECE RETROSPOT )</td>\n",
       "      <td>0.0240</td>\n",
       "      <td>0.0453</td>\n",
       "      <td>0.0171</td>\n",
       "      <td>0.712500</td>\n",
       "      <td>15.728477</td>\n",
       "      <td>0.016013</td>\n",
       "      <td>3.320696</td>\n",
       "    </tr>\n",
       "  </tbody>\n",
       "</table>\n",
       "</div>"
      ],
      "text/plain": [
       "                         antecedents                      consequents  \\\n",
       "0   (ALARM CLOCK BAKELIKE CHOCOLATE)     (ALARM CLOCK BAKELIKE GREEN)   \n",
       "1   (ALARM CLOCK BAKELIKE CHOCOLATE)      (ALARM CLOCK BAKELIKE RED )   \n",
       "2       (ALARM CLOCK BAKELIKE IVORY)     (ALARM CLOCK BAKELIKE GREEN)   \n",
       "3      (ALARM CLOCK BAKELIKE ORANGE)     (ALARM CLOCK BAKELIKE GREEN)   \n",
       "4       (ALARM CLOCK BAKELIKE GREEN)      (ALARM CLOCK BAKELIKE RED )   \n",
       "5        (ALARM CLOCK BAKELIKE RED )     (ALARM CLOCK BAKELIKE GREEN)   \n",
       "6       (ALARM CLOCK BAKELIKE IVORY)      (ALARM CLOCK BAKELIKE RED )   \n",
       "7      (ALARM CLOCK BAKELIKE ORANGE)      (ALARM CLOCK BAKELIKE RED )   \n",
       "8        (ALARM CLOCK BAKELIKE PINK)      (ALARM CLOCK BAKELIKE RED )   \n",
       "9     (PAINTED METAL PEARS ASSORTED)  (ASSORTED COLOUR BIRD ORNAMENT)   \n",
       "10      (BAKING SET SPACEBOY DESIGN)  (BAKING SET 9 PIECE RETROSPOT )   \n",
       "\n",
       "    antecedent support  consequent support  support  confidence       lift  \\\n",
       "0               0.0210              0.0461   0.0136    0.647619  14.048136   \n",
       "1               0.0210              0.0506   0.0140    0.666667  13.175231   \n",
       "2               0.0270              0.0461   0.0164    0.607407  13.175866   \n",
       "3               0.0213              0.0461   0.0133    0.624413  13.544754   \n",
       "4               0.0461              0.0506   0.0315    0.683297  13.503897   \n",
       "5               0.0506              0.0461   0.0315    0.622530  13.503897   \n",
       "6               0.0270              0.0506   0.0185    0.685185  13.541209   \n",
       "7               0.0213              0.0506   0.0141    0.661972  13.082447   \n",
       "8               0.0363              0.0506   0.0222    0.611570  12.086369   \n",
       "9               0.0188              0.0728   0.0133    0.707447   9.717676   \n",
       "10              0.0240              0.0453   0.0171    0.712500  15.728477   \n",
       "\n",
       "    leverage  conviction  \n",
       "0   0.012632    2.707014  \n",
       "1   0.012937    2.848200  \n",
       "2   0.015155    2.429745  \n",
       "3   0.012318    2.539759  \n",
       "4   0.029167    2.997763  \n",
       "5   0.029167    2.527086  \n",
       "6   0.017134    3.015741  \n",
       "7   0.013022    2.808642  \n",
       "8   0.020363    2.444200  \n",
       "9   0.011931    3.169338  \n",
       "10  0.016013    3.320696  "
      ]
     },
     "execution_count": 63,
     "metadata": {},
     "output_type": "execute_result"
    }
   ],
   "source": [
    "rules = mlxtend.frequent_patterns.association_rules(\n",
    "    mod_colnames_minsupport, \n",
    "    metric=\"confidence\",\n",
    "    min_threshold=0.6, \n",
    "    support_only=False\n",
    ")\n",
    "\n",
    "rules.loc[0:10]"
   ]
  },
  {
   "cell_type": "code",
   "execution_count": 64,
   "metadata": {},
   "outputs": [
    {
     "name": "stdout",
     "output_type": "stream",
     "text": [
      "Number of Associations: 471\n"
     ]
    }
   ],
   "source": [
    "print(\"Number of Associations: {}\".format(rules.shape[0]))"
   ]
  },
  {
   "cell_type": "code",
   "execution_count": 65,
   "metadata": {},
   "outputs": [
    {
     "data": {
      "text/html": [
       "<div>\n",
       "<style scoped>\n",
       "    .dataframe tbody tr th:only-of-type {\n",
       "        vertical-align: middle;\n",
       "    }\n",
       "\n",
       "    .dataframe tbody tr th {\n",
       "        vertical-align: top;\n",
       "    }\n",
       "\n",
       "    .dataframe thead th {\n",
       "        text-align: right;\n",
       "    }\n",
       "</style>\n",
       "<table border=\"1\" class=\"dataframe\">\n",
       "  <thead>\n",
       "    <tr style=\"text-align: right;\">\n",
       "      <th></th>\n",
       "      <th>antecedents</th>\n",
       "      <th>consequents</th>\n",
       "      <th>antecedent support</th>\n",
       "      <th>consequent support</th>\n",
       "      <th>support</th>\n",
       "      <th>confidence</th>\n",
       "      <th>lift</th>\n",
       "      <th>leverage</th>\n",
       "      <th>conviction</th>\n",
       "    </tr>\n",
       "  </thead>\n",
       "  <tbody>\n",
       "    <tr>\n",
       "      <th>0</th>\n",
       "      <td>(HERB MARKER BASIL)</td>\n",
       "      <td>(HERB MARKER MINT)</td>\n",
       "      <td>0.0118</td>\n",
       "      <td>0.0119</td>\n",
       "      <td>0.0102</td>\n",
       "      <td>0.864407</td>\n",
       "      <td>72.639225</td>\n",
       "      <td>0.010060</td>\n",
       "      <td>7.287238</td>\n",
       "    </tr>\n",
       "    <tr>\n",
       "      <th>1</th>\n",
       "      <td>(HERB MARKER MINT)</td>\n",
       "      <td>(HERB MARKER BASIL)</td>\n",
       "      <td>0.0119</td>\n",
       "      <td>0.0118</td>\n",
       "      <td>0.0102</td>\n",
       "      <td>0.857143</td>\n",
       "      <td>72.639225</td>\n",
       "      <td>0.010060</td>\n",
       "      <td>6.917400</td>\n",
       "    </tr>\n",
       "    <tr>\n",
       "      <th>2</th>\n",
       "      <td>(HERB MARKER PARSLEY)</td>\n",
       "      <td>(HERB MARKER BASIL)</td>\n",
       "      <td>0.0115</td>\n",
       "      <td>0.0118</td>\n",
       "      <td>0.0102</td>\n",
       "      <td>0.886957</td>\n",
       "      <td>75.165807</td>\n",
       "      <td>0.010064</td>\n",
       "      <td>8.741769</td>\n",
       "    </tr>\n",
       "    <tr>\n",
       "      <th>3</th>\n",
       "      <td>(HERB MARKER BASIL)</td>\n",
       "      <td>(HERB MARKER PARSLEY)</td>\n",
       "      <td>0.0118</td>\n",
       "      <td>0.0115</td>\n",
       "      <td>0.0102</td>\n",
       "      <td>0.864407</td>\n",
       "      <td>75.165807</td>\n",
       "      <td>0.010064</td>\n",
       "      <td>7.290188</td>\n",
       "    </tr>\n",
       "    <tr>\n",
       "      <th>4</th>\n",
       "      <td>(HERB MARKER ROSEMARY)</td>\n",
       "      <td>(HERB MARKER BASIL)</td>\n",
       "      <td>0.0116</td>\n",
       "      <td>0.0118</td>\n",
       "      <td>0.0104</td>\n",
       "      <td>0.896552</td>\n",
       "      <td>75.978960</td>\n",
       "      <td>0.010263</td>\n",
       "      <td>9.552600</td>\n",
       "    </tr>\n",
       "    <tr>\n",
       "      <th>5</th>\n",
       "      <td>(HERB MARKER BASIL)</td>\n",
       "      <td>(HERB MARKER ROSEMARY)</td>\n",
       "      <td>0.0118</td>\n",
       "      <td>0.0116</td>\n",
       "      <td>0.0104</td>\n",
       "      <td>0.881356</td>\n",
       "      <td>75.978960</td>\n",
       "      <td>0.010263</td>\n",
       "      <td>8.330800</td>\n",
       "    </tr>\n",
       "    <tr>\n",
       "      <th>6</th>\n",
       "      <td>(HERB MARKER BASIL)</td>\n",
       "      <td>(HERB MARKER THYME)</td>\n",
       "      <td>0.0118</td>\n",
       "      <td>0.0112</td>\n",
       "      <td>0.0103</td>\n",
       "      <td>0.872881</td>\n",
       "      <td>77.935835</td>\n",
       "      <td>0.010168</td>\n",
       "      <td>7.778560</td>\n",
       "    </tr>\n",
       "    <tr>\n",
       "      <th>7</th>\n",
       "      <td>(HERB MARKER THYME)</td>\n",
       "      <td>(HERB MARKER BASIL)</td>\n",
       "      <td>0.0112</td>\n",
       "      <td>0.0118</td>\n",
       "      <td>0.0103</td>\n",
       "      <td>0.919643</td>\n",
       "      <td>77.935835</td>\n",
       "      <td>0.010168</td>\n",
       "      <td>12.297600</td>\n",
       "    </tr>\n",
       "    <tr>\n",
       "      <th>8</th>\n",
       "      <td>(HERB MARKER PARSLEY)</td>\n",
       "      <td>(HERB MARKER MINT)</td>\n",
       "      <td>0.0115</td>\n",
       "      <td>0.0119</td>\n",
       "      <td>0.0104</td>\n",
       "      <td>0.904348</td>\n",
       "      <td>75.995616</td>\n",
       "      <td>0.010263</td>\n",
       "      <td>10.330136</td>\n",
       "    </tr>\n",
       "    <tr>\n",
       "      <th>9</th>\n",
       "      <td>(HERB MARKER MINT)</td>\n",
       "      <td>(HERB MARKER PARSLEY)</td>\n",
       "      <td>0.0119</td>\n",
       "      <td>0.0115</td>\n",
       "      <td>0.0104</td>\n",
       "      <td>0.873950</td>\n",
       "      <td>75.995616</td>\n",
       "      <td>0.010263</td>\n",
       "      <td>7.842100</td>\n",
       "    </tr>\n",
       "    <tr>\n",
       "      <th>10</th>\n",
       "      <td>(HERB MARKER ROSEMARY)</td>\n",
       "      <td>(HERB MARKER MINT)</td>\n",
       "      <td>0.0116</td>\n",
       "      <td>0.0119</td>\n",
       "      <td>0.0102</td>\n",
       "      <td>0.879310</td>\n",
       "      <td>73.891626</td>\n",
       "      <td>0.010062</td>\n",
       "      <td>8.187114</td>\n",
       "    </tr>\n",
       "  </tbody>\n",
       "</table>\n",
       "</div>"
      ],
      "text/plain": [
       "               antecedents             consequents  antecedent support  \\\n",
       "0      (HERB MARKER BASIL)      (HERB MARKER MINT)              0.0118   \n",
       "1       (HERB MARKER MINT)     (HERB MARKER BASIL)              0.0119   \n",
       "2    (HERB MARKER PARSLEY)     (HERB MARKER BASIL)              0.0115   \n",
       "3      (HERB MARKER BASIL)   (HERB MARKER PARSLEY)              0.0118   \n",
       "4   (HERB MARKER ROSEMARY)     (HERB MARKER BASIL)              0.0116   \n",
       "5      (HERB MARKER BASIL)  (HERB MARKER ROSEMARY)              0.0118   \n",
       "6      (HERB MARKER BASIL)     (HERB MARKER THYME)              0.0118   \n",
       "7      (HERB MARKER THYME)     (HERB MARKER BASIL)              0.0112   \n",
       "8    (HERB MARKER PARSLEY)      (HERB MARKER MINT)              0.0115   \n",
       "9       (HERB MARKER MINT)   (HERB MARKER PARSLEY)              0.0119   \n",
       "10  (HERB MARKER ROSEMARY)      (HERB MARKER MINT)              0.0116   \n",
       "\n",
       "    consequent support  support  confidence       lift  leverage  conviction  \n",
       "0               0.0119   0.0102    0.864407  72.639225  0.010060    7.287238  \n",
       "1               0.0118   0.0102    0.857143  72.639225  0.010060    6.917400  \n",
       "2               0.0118   0.0102    0.886957  75.165807  0.010064    8.741769  \n",
       "3               0.0115   0.0102    0.864407  75.165807  0.010064    7.290188  \n",
       "4               0.0118   0.0104    0.896552  75.978960  0.010263    9.552600  \n",
       "5               0.0116   0.0104    0.881356  75.978960  0.010263    8.330800  \n",
       "6               0.0112   0.0103    0.872881  77.935835  0.010168    7.778560  \n",
       "7               0.0118   0.0103    0.919643  77.935835  0.010168   12.297600  \n",
       "8               0.0119   0.0104    0.904348  75.995616  0.010263   10.330136  \n",
       "9               0.0115   0.0104    0.873950  75.995616  0.010263    7.842100  \n",
       "10              0.0119   0.0102    0.879310  73.891626  0.010062    8.187114  "
      ]
     },
     "execution_count": 65,
     "metadata": {},
     "output_type": "execute_result"
    }
   ],
   "source": [
    "rules2 = mlxtend.frequent_patterns\\\n",
    "         .association_rules(mod_colnames_minsupport, \\\n",
    "         metric=\"lift\", \\\n",
    "         min_threshold=50,\\\n",
    "         support_only=False)\n",
    "rules2.loc[0:10]"
   ]
  },
  {
   "cell_type": "code",
   "execution_count": 66,
   "metadata": {},
   "outputs": [
    {
     "name": "stdout",
     "output_type": "stream",
     "text": [
      "Number of Associations: 24\n"
     ]
    }
   ],
   "source": [
    "print(\"Number of Associations: {}\".format(rules2.shape[0]))"
   ]
  },
  {
   "cell_type": "code",
   "execution_count": 69,
   "metadata": {},
   "outputs": [
    {
     "data": {
      "image/png": "[encoded data removed]",
      "text/plain": [
       "<Figure size 432x288 with 1 Axes>"
      ]
     },
     "metadata": {
      "needs_background": "light"
     },
     "output_type": "display_data"
    }
   ],
   "source": [
    "rules.plot.scatter(\"support\", \"confidence\", \\\n",
    "                   alpha=0.5, marker=\"o\")\n",
    "plt.xlabel(\"Support\")\n",
    "plt.ylabel(\"Confidence\")\n",
    "plt.title(\"Association Rules\")\n",
    "plt.show()"
   ]
  },
  {
   "cell_type": "markdown",
   "metadata": {},
   "source": [
    "If an item set has high support, the items are likely to appear with many other items, and the chances of high confidence very low."
   ]
  },
  {
   "cell_type": "code",
   "execution_count": 70,
   "metadata": {},
   "outputs": [
    {
     "data": {
      "image/png": "[encoded data removed]",
      "text/plain": [
       "<Figure size 432x288 with 1 Axes>"
      ]
     },
     "metadata": {
      "needs_background": "light"
     },
     "output_type": "display_data"
    }
   ],
   "source": [
    "rules.hist(\"confidence\", grid=False, bins=30)\n",
    "plt.xlabel(\"Confidence of item\")\n",
    "plt.ylabel(\"Number of items\")\n",
    "plt.title(\"Frequency distribution of Confidence\")\n",
    "plt.show()"
   ]
  },
  {
   "cell_type": "code",
   "execution_count": 71,
   "metadata": {},
   "outputs": [
    {
     "data": {
      "image/png": "[encoded data removed]",
      "text/plain": [
       "<Figure size 432x288 with 1 Axes>"
      ]
     },
     "metadata": {
      "needs_background": "light"
     },
     "output_type": "display_data"
    }
   ],
   "source": [
    "rules.hist(\"lift\", grid=False, bins=30)\n",
    "plt.xlabel(\"Lift of item\")\n",
    "plt.ylabel(\"Number of items\")\n",
    "plt.title(\"Frequency distribution of Lift\")\n",
    "plt.show() "
   ]
  },
  {
   "cell_type": "code",
   "execution_count": 72,
   "metadata": {},
   "outputs": [
    {
     "data": {
      "image/png": "[encoded data removed]",
      "text/plain": [
       "<Figure size 432x288 with 1 Axes>"
      ]
     },
     "metadata": {
      "needs_background": "light"
     },
     "output_type": "display_data"
    }
   ],
   "source": [
    "rules.hist(\"leverage\", grid=False, bins=30)\n",
    "plt.xlabel(\"Leverage of item\")\n",
    "plt.ylabel(\"Number of items\")\n",
    "plt.title(\"Frequency distribution of Leverage\")\n",
    "plt.show() "
   ]
  },
  {
   "cell_type": "markdown",
   "metadata": {},
   "source": [
    "Market basket analysis is used to analyze and extract insights from transaction. Association rule learning is a machine learning approach to uncovering the associations between the products individuals purchase that are strong enough to be leveraged for business decisions. The Apriori algorithm and association rule learning models using mlxtend and know how these models are applied in business. "
   ]
  },
  {
   "cell_type": "code",
   "execution_count": null,
   "metadata": {},
   "outputs": [],
   "source": []
  },
  {
   "cell_type": "code",
   "execution_count": null,
   "metadata": {},
   "outputs": [],
   "source": []
  }
 ],
 "metadata": {
  "kernelspec": {
   "display_name": "Python 3",
   "language": "python",
   "name": "python3"
  },
  "language_info": {
   "codemirror_mode": {
    "name": "ipython",
    "version": 3
   },
   "file_extension": ".py",
   "mimetype": "text/x-python",
   "name": "python",
   "nbconvert_exporter": "python",
   "pygments_lexer": "ipython3",
   "version": "3.6.13"
  }
 },
 "nbformat": 4,
 "nbformat_minor": 4
}
